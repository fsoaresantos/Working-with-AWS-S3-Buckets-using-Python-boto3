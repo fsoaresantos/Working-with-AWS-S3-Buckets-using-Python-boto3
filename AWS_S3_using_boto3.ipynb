{
  "cells": [
    {
      "cell_type": "markdown",
      "metadata": {
        "id": "f4-O7fvyp-Pr"
      },
      "source": [
        "**Amazon Simple Storage Service (Amazon S3)** is an object storage service that offers scalability, data availability, security, and performance.\n",
        "\n",
        "\n",
        "Amazon S3 is designed for 99.999999999% (11 9's) of durability, and stores data for millions of applications for companies all around the world.\n",
        "\n",
        "\n",
        "An **Amazon S3 bucket** is a storage location to hold files. S3 files are referred to as **objects**.\n",
        "\n",
        "\n",
        "\n",
        "**Boto 3** is the Amazon Web Services (AWS) Software Development Kit (SDK) for Python, which allows Python developers to write software that makes use of services like Amazon S3 and Amazon EC2.\n"
      ]
    },
    {
      "cell_type": "markdown",
      "metadata": {
        "id": "EG1V0tLDLaLg"
      },
      "source": [
        "## FIRST: create a AWS account and an account user profile:\n",
        "\n",
        "1)    create an AWS account, if you still doen't have one, at aws.amazon.com\n",
        "\n",
        "2)    log in trhough **AWS Management Console** in **My Account** drop-down list\n",
        "\n",
        "3)    got to **Services** -> **IAM** -> **Users** and click in **Add user**\n",
        "\n",
        "4)    first give the user a *name*, then, in **AWS access type** check mark **Programmatic access** option\n",
        "\n",
        "5)    in the *next* page (Permissions) select **Attach existing policies directly** from *Set permissions* options, and then, check mark **AmazonS3FullAccess** Policy name\n",
        "\n",
        "6)    skip the *next* page (Tags)\n",
        "\n",
        "7)    in the *next* page (Review) check if everything is as settled and click in **Create user**\n",
        "\n",
        "8)    download the user credentials file by clicking in **Download .csv**. This will download a file called credentials.csv which contains the access key ID and the secret access key of the current user that you will need to follow with this notebook.\n",
        "\n",
        "9)    to run this notebook upload it and the image file 'eveningsky_image.jpeg' to the JupterLab (in **Services** -> **Amazon SageMaker** -> **SageMaker Studio**)\n",
        "\n",
        "10)    be sure to fill in your user account credentials and prefered AWS region in the lines of code bellow which are commented with a '## TODO'"
      ]
    },
    {
      "cell_type": "markdown",
      "metadata": {
        "id": "LXLjH7XHp-Pz"
      },
      "source": [
        "## Create an Amazon S3 bucket\n",
        "\n",
        "The name of an Amazon S3 bucket must be unique across all regions of the AWS platform.\n",
        "The bucket name should be between 3 and 63 characters long, and can contain only lower-case characters, numbers, periods, and dashes. It should not contain underscores.\n",
        "The bucket can be located in a specific region to minimize latency or to address regulatory requirements."
      ]
    },
    {
      "cell_type": "code",
      "execution_count": null,
      "metadata": {
        "id": "_s38vDZMp-P0"
      },
      "outputs": [],
      "source": [
        "import logging\n",
        "import boto3\n",
        "from botocore.exceptions import ClientError"
      ]
    },
    {
      "cell_type": "code",
      "execution_count": null,
      "metadata": {
        "id": "mFxQ6emo5-vd",
        "outputId": "f5b36726-659c-4ae0-b005-3a1fb9411be9"
      },
      "outputs": [
        {
          "name": "stdout",
          "output_type": "stream",
          "text": [
            "Bucket Name: workingwiths3-7aeac0f7-1fa0-47df-b068-1c5b14eb1897\n"
          ]
        }
      ],
      "source": [
        "import uuid\n",
        "\n",
        "## define the name of the bucket using unique identifier\n",
        "prefix = \"workingwiths3-\"\n",
        "id = uuid.uuid4() ## generates an universally unique identifier of 36 character long\n",
        "bucket_name = \"\".join([prefix, str(id)])\n",
        "\n",
        "print(f'Bucket Name: {bucket_name}')"
      ]
    },
    {
      "cell_type": "markdown",
      "metadata": {
        "id": "LLPHXsTOadO9"
      },
      "source": [
        "### Method 1:\n",
        "\n",
        "hard-coding **access key ID** and **secret access key** and **region name**"
      ]
    },
    {
      "cell_type": "code",
      "execution_count": null,
      "metadata": {
        "id": "JK_YwW65p-P1"
      },
      "outputs": [],
      "source": [
        "# hardcod access key ID and secret access key and region name\n",
        "AWS_ACCESS_KEY_ID = YOUR_AWS_ACCESS_KEY_ID ## TODO\n",
        "AWS_SECRET_ACCESS_KEY = YOUR_AWS_SECRET_ACCESS_KEY ## TODO\n",
        "\n",
        "# choose a AWS region (Note: boto3 doesn't accept 'us-east-1' as region_name)\n",
        "my_region = YOUR_PREFERED_REGION ## TODO\n",
        "\n",
        "s3_client = boto3.client('s3',\n",
        "                         region_name=my_region,\n",
        "                         aws_access_key_id=AWS_ACCESS_KEY_ID,\n",
        "                         aws_secret_access_key=AWS_SECRET_ACCESS_KEY)\n"
      ]
    },
    {
      "cell_type": "code",
      "execution_count": null,
      "metadata": {
        "id": "6TQdJT7RDvHd"
      },
      "outputs": [],
      "source": [
        "## create a s3 bucket\n",
        "location = {'LocationConstraint':my_region}\n",
        "s3_client.create_bucket(Bucket=bucket_name,\n",
        "                       CreateBucketConfiguration=location)"
      ]
    },
    {
      "cell_type": "markdown",
      "metadata": {
        "id": "HuGWJCbka85D"
      },
      "source": [
        "### Method 2:\n",
        "\n",
        "providing **access key ID** and **secret access key** information through a shared credential file"
      ]
    },
    {
      "cell_type": "code",
      "execution_count": null,
      "metadata": {
        "id": "uN7gMRzRZowD",
        "outputId": "36cf4291-626d-4dac-9be6-bacc85c772df"
      },
      "outputs": [
        {
          "name": "stdout",
          "output_type": "stream",
          "text": [
            "[Errno 17] File exists: './.aws'\n"
          ]
        }
      ],
      "source": [
        "import os\n",
        "\n",
        "# create a default directory for boto3 to access the user credentials\n",
        "try:\n",
        "    os.mkdir('./.aws')\n",
        "except OSError as e:\n",
        "    print(e)\n",
        "\n",
        "# create a file to save your user credentials\n",
        "with open('./.aws/credentials', 'w') as f:\n",
        "    f.write(\"\\t[default]\\n\")\n",
        "    f.write(\"\\taws_access_key_id = YOUR_AWS_ACCESS_KEY_ID\\n\") ## TODO\n",
        "    f.write(\"\\taws_secret_access_key = YOUR_AWS_SECRET_ACCESS_KEY\\n\") ## TODO\n"
      ]
    },
    {
      "cell_type": "code",
      "execution_count": null,
      "metadata": {
        "id": "qwxRiA75DvHf"
      },
      "outputs": [],
      "source": [
        "## os.remove('./.aws/credentials') ## run this command line if you have to delete the credentials file"
      ]
    },
    {
      "cell_type": "code",
      "execution_count": null,
      "metadata": {
        "id": "eWfABM3DRigY",
        "outputId": "0a0d27e3-2e07-4705-866a-8cf532631fd2"
      },
      "outputs": [
        {
          "name": "stdout",
          "output_type": "stream",
          "text": [
            "us-east-1\n"
          ]
        }
      ],
      "source": [
        "## create a S3 client. oss. boto3 access your credentials from the file in the default directory\n",
        "s3_client = boto3.client('s3')\n",
        "\n",
        "# retrieve your AWS region from your session using boto3\n",
        "session = boto3.session.Session()\n",
        "current_region = session.region_name\n",
        "\n",
        "print(current_region)"
      ]
    },
    {
      "cell_type": "code",
      "execution_count": null,
      "metadata": {
        "id": "R6q7eLjVDvHg"
      },
      "outputs": [],
      "source": [
        "## create a s3 bucket\n",
        "## oss. exclude 'us-east-1' as region because boto3 doesn't accepts it\n",
        "if current_region != 'us-east-1':\n",
        "    location = {'LocationConstraint':current_region}\n",
        "    ## create the bucket\n",
        "    s3_client.create_bucket(Bucket=bucket_name,\n",
        "                           CreateBucketConfiguration=location)\n",
        "else:\n",
        "    s3_client.create_bucket(Bucket=bucket_name)"
      ]
    },
    {
      "cell_type": "markdown",
      "metadata": {
        "id": "IJiyzl6Ap-P3"
      },
      "source": [
        "## Listing Buckets"
      ]
    },
    {
      "cell_type": "code",
      "execution_count": null,
      "metadata": {
        "id": "UAG3lz0cp-P3",
        "outputId": "34a4123f-2751-4423-e585-f37970c00c39"
      },
      "outputs": [
        {
          "name": "stdout",
          "output_type": "stream",
          "text": [
            "sagemaker-studio-yzwjzmdqpls\n",
            "workingwiths3-dfa1789a-9aba-4e12-bb33-2aa3bd00639f\n",
            "workingwiths3-f205b4eb-7d44-45d9-86d6-cd8aa5ff180d\n"
          ]
        }
      ],
      "source": [
        "response = s3_client.list_buckets()\n",
        "\n",
        "for bucket in response['Buckets']:\n",
        "    print(bucket['Name'])"
      ]
    },
    {
      "cell_type": "markdown",
      "metadata": {
        "id": "5oAe2vmop-P4"
      },
      "source": [
        "## Uploading files\n"
      ]
    },
    {
      "cell_type": "code",
      "execution_count": null,
      "metadata": {
        "id": "sBg-D143p-P4"
      },
      "outputs": [],
      "source": [
        "file_name = 'eveningsky_image.jpeg'\n",
        "s3_object_name = file_name\n",
        "\n",
        "response = s3_client.upload_file(Filename=file_name, Bucket=bucket_name, Key=s3_object_name)"
      ]
    },
    {
      "cell_type": "markdown",
      "metadata": {
        "id": "so3q1pDTp-P5"
      },
      "source": [
        "## Upload files as File Object using the file handling"
      ]
    },
    {
      "cell_type": "code",
      "execution_count": null,
      "metadata": {
        "id": "vm8X24MBp-P5"
      },
      "outputs": [],
      "source": [
        "s3_object_name = 'eveningsky_image_fileobj_method.jpeg'\n",
        "\n",
        "## upload file using file handler\n",
        "with open(file_name, 'rb') as f:\n",
        "    s3_client.upload_fileobj(Fileobj=f, Bucket=bucket_name, Key=s3_object_name)"
      ]
    },
    {
      "cell_type": "markdown",
      "metadata": {
        "id": "jDaEvnAip-P6"
      },
      "source": [
        "## Extra Args\n",
        "Both upload_file and upload_fileobj accept an optional ExtraArgs parameter that can be used for various purposes.\n",
        "\n",
        "Some Important ExtraArgs\n"
      ]
    },
    {
      "cell_type": "code",
      "execution_count": null,
      "metadata": {
        "id": "USStE2AVp-P6"
      },
      "outputs": [],
      "source": [
        "s3_object_name = 'eveningsky_image_public.jpeg'\n",
        "\n",
        "response = s3_client.upload_file(Filename='eveningsky_image.jpeg', Bucket=bucket_name, Key=s3_object_name,\n",
        "                                ExtraArgs={'ACL':'public-read'})"
      ]
    },
    {
      "cell_type": "markdown",
      "metadata": {
        "id": "hBaSix_6p-P6"
      },
      "source": [
        "## Downloading files\n",
        "\n",
        "The methods provided by the AWS SDK for Python to download files are similar to those provided to upload files.\n",
        "\n",
        "\n",
        "The download_file method accepts the names of the bucket and object to download and the filename to save the file to."
      ]
    },
    {
      "cell_type": "code",
      "execution_count": null,
      "metadata": {
        "id": "Ulgs30kfp-P6"
      },
      "outputs": [],
      "source": [
        "s3_object_name = 'eveningsky_image.jpeg'\n",
        "\n",
        "s3_client.download_file(Bucket=bucket_name, Key=s3_object_name, Filename='eveningsky_image_downloaded.jpeg')"
      ]
    },
    {
      "cell_type": "code",
      "execution_count": null,
      "metadata": {
        "id": "SyWXe3d-p-P7"
      },
      "outputs": [],
      "source": [
        "with open('eveningsky_image_written.jpeg', 'wb') as f:\n",
        "    s3_client.download_fileobj(Bucket=bucket_name, Key=s3_object_name, Fileobj=f)"
      ]
    },
    {
      "cell_type": "markdown",
      "metadata": {
        "id": "vvEU1D_8p-P7"
      },
      "source": [
        "## File transfer configuration\n",
        "\n",
        "\n",
        "When uploading, downloading, or copying a file or S3 object, the AWS SDK for Python automatically manages retries and multipart and non-multipart transfers.\n",
        "\n",
        "The management operations are performed by using reasonable default settings that are well-suited for most scenarios. To handle a special case, the default settings can be configured to meet requirements.\n",
        "\n",
        "## Multipart transfers\n",
        "\n",
        "Multipart transfers occur when the file size exceeds the value of the multipart_threshold attribute.\n"
      ]
    },
    {
      "cell_type": "code",
      "execution_count": null,
      "metadata": {
        "id": "zgvwIAAfp-P7"
      },
      "outputs": [],
      "source": [
        "from boto3.s3.transfer import TransferConfig\n",
        "\n",
        "GB = 1024**3 ##GB in bytes\n",
        "\n",
        "config = TransferConfig(multipart_threshold=5*GB)\n",
        "\n",
        "s3_client.upload_file(Filename='eveningsky_image.jpeg', Bucket=bucket_name, Key='eveningsky_image_multi_transfer.jpeg', Config=config)\n"
      ]
    },
    {
      "cell_type": "markdown",
      "metadata": {
        "id": "yoQMzBq8p-P8"
      },
      "source": [
        "## Presigned URLs\n",
        "\n",
        "A user who does not have AWS credentials or permission to access an S3 object can be granted temporary access by using a presigned URL.\n",
        "\n",
        "A presigned URL is generated by an AWS user who has access to the object. The generated URL is then given to the unauthorized user. The presigned URL can be entered in a browser or used by a program or HTML webpage. The credentials used by the presigned URL are those of the AWS user who generated the URL.\n",
        "\n",
        "A presigned URL remains valid for a limited period of time which is specified when the URL is generated."
      ]
    },
    {
      "cell_type": "code",
      "execution_count": null,
      "metadata": {
        "id": "92vAdvO1p-P8"
      },
      "outputs": [],
      "source": [
        "s3_object_name = 'eveningsky_image_multi_transfer.jpeg'\n",
        "response_presigned_url = s3_client.generate_presigned_url(ClientMethod='get_object',\n",
        "                                                         Params={'Bucket':bucket_name,\n",
        "                                                                'Key':s3_object_name},\n",
        "                                                         ExpiresIn=3600)\n",
        "\n",
        "print(response_presigned_url)"
      ]
    },
    {
      "cell_type": "markdown",
      "metadata": {
        "id": "v8Itfl6ap-P9"
      },
      "source": [
        "## Bucket policies\n",
        "\n",
        "An S3 bucket can have an optional policy that grants access permissions to other AWS accounts or AWS Identity and Access Management (IAM) users. Bucket policies are defined using the same JSON format as a resource-based IAM policy."
      ]
    },
    {
      "cell_type": "markdown",
      "metadata": {
        "id": "A8_hPjB-p-P9"
      },
      "source": [
        "## Retrieve a Bucket Policy\n",
        "\n",
        "Note: if the specified bucket doesn't have a bucket policy the following error is returned:\n",
        "**'NoSuchBucketPolicy'**"
      ]
    },
    {
      "cell_type": "code",
      "execution_count": null,
      "metadata": {
        "id": "8hxq5LPOp-P9",
        "outputId": "32af8f0a-6f40-4c99-c17f-db4475b2341e"
      },
      "outputs": [
        {
          "ename": "ClientError",
          "evalue": "An error occurred (NoSuchBucketPolicy) when calling the GetBucketPolicy operation: The bucket policy does not exist",
          "output_type": "error",
          "traceback": [
            "\u001b[0;31m---------------------------------------------------------------------------\u001b[0m",
            "\u001b[0;31mClientError\u001b[0m                               Traceback (most recent call last)",
            "\u001b[0;32m<ipython-input-16-8c2be5377ce3>\u001b[0m in \u001b[0;36m<module>\u001b[0;34m\u001b[0m\n\u001b[0;32m----> 1\u001b[0;31m \u001b[0mresult\u001b[0m \u001b[0;34m=\u001b[0m \u001b[0ms3_client\u001b[0m\u001b[0;34m.\u001b[0m\u001b[0mget_bucket_policy\u001b[0m\u001b[0;34m(\u001b[0m\u001b[0mBucket\u001b[0m\u001b[0;34m=\u001b[0m\u001b[0mbucket_name\u001b[0m\u001b[0;34m)\u001b[0m\u001b[0;34m\u001b[0m\u001b[0;34m\u001b[0m\u001b[0m\n\u001b[0m\u001b[1;32m      2\u001b[0m \u001b[0mprint\u001b[0m\u001b[0;34m(\u001b[0m\u001b[0mresult\u001b[0m\u001b[0;34m[\u001b[0m\u001b[0;34m'Policy'\u001b[0m\u001b[0;34m]\u001b[0m\u001b[0;34m)\u001b[0m\u001b[0;34m\u001b[0m\u001b[0;34m\u001b[0m\u001b[0m\n",
            "\u001b[0;32m/opt/conda/lib/python3.7/site-packages/botocore/client.py\u001b[0m in \u001b[0;36m_api_call\u001b[0;34m(self, *args, **kwargs)\u001b[0m\n\u001b[1;32m    389\u001b[0m                     \"%s() only accepts keyword arguments.\" % py_operation_name)\n\u001b[1;32m    390\u001b[0m             \u001b[0;31m# The \"self\" in this scope is referring to the BaseClient.\u001b[0m\u001b[0;34m\u001b[0m\u001b[0;34m\u001b[0m\u001b[0;34m\u001b[0m\u001b[0m\n\u001b[0;32m--> 391\u001b[0;31m             \u001b[0;32mreturn\u001b[0m \u001b[0mself\u001b[0m\u001b[0;34m.\u001b[0m\u001b[0m_make_api_call\u001b[0m\u001b[0;34m(\u001b[0m\u001b[0moperation_name\u001b[0m\u001b[0;34m,\u001b[0m \u001b[0mkwargs\u001b[0m\u001b[0;34m)\u001b[0m\u001b[0;34m\u001b[0m\u001b[0;34m\u001b[0m\u001b[0m\n\u001b[0m\u001b[1;32m    392\u001b[0m \u001b[0;34m\u001b[0m\u001b[0m\n\u001b[1;32m    393\u001b[0m         \u001b[0m_api_call\u001b[0m\u001b[0;34m.\u001b[0m\u001b[0m__name__\u001b[0m \u001b[0;34m=\u001b[0m \u001b[0mstr\u001b[0m\u001b[0;34m(\u001b[0m\u001b[0mpy_operation_name\u001b[0m\u001b[0;34m)\u001b[0m\u001b[0;34m\u001b[0m\u001b[0;34m\u001b[0m\u001b[0m\n",
            "\u001b[0;32m/opt/conda/lib/python3.7/site-packages/botocore/client.py\u001b[0m in \u001b[0;36m_make_api_call\u001b[0;34m(self, operation_name, api_params)\u001b[0m\n\u001b[1;32m    717\u001b[0m             \u001b[0merror_code\u001b[0m \u001b[0;34m=\u001b[0m \u001b[0mparsed_response\u001b[0m\u001b[0;34m.\u001b[0m\u001b[0mget\u001b[0m\u001b[0;34m(\u001b[0m\u001b[0;34m\"Error\"\u001b[0m\u001b[0;34m,\u001b[0m \u001b[0;34m{\u001b[0m\u001b[0;34m}\u001b[0m\u001b[0;34m)\u001b[0m\u001b[0;34m.\u001b[0m\u001b[0mget\u001b[0m\u001b[0;34m(\u001b[0m\u001b[0;34m\"Code\"\u001b[0m\u001b[0;34m)\u001b[0m\u001b[0;34m\u001b[0m\u001b[0;34m\u001b[0m\u001b[0m\n\u001b[1;32m    718\u001b[0m             \u001b[0merror_class\u001b[0m \u001b[0;34m=\u001b[0m \u001b[0mself\u001b[0m\u001b[0;34m.\u001b[0m\u001b[0mexceptions\u001b[0m\u001b[0;34m.\u001b[0m\u001b[0mfrom_code\u001b[0m\u001b[0;34m(\u001b[0m\u001b[0merror_code\u001b[0m\u001b[0;34m)\u001b[0m\u001b[0;34m\u001b[0m\u001b[0;34m\u001b[0m\u001b[0m\n\u001b[0;32m--> 719\u001b[0;31m             \u001b[0;32mraise\u001b[0m \u001b[0merror_class\u001b[0m\u001b[0;34m(\u001b[0m\u001b[0mparsed_response\u001b[0m\u001b[0;34m,\u001b[0m \u001b[0moperation_name\u001b[0m\u001b[0;34m)\u001b[0m\u001b[0;34m\u001b[0m\u001b[0;34m\u001b[0m\u001b[0m\n\u001b[0m\u001b[1;32m    720\u001b[0m         \u001b[0;32melse\u001b[0m\u001b[0;34m:\u001b[0m\u001b[0;34m\u001b[0m\u001b[0;34m\u001b[0m\u001b[0m\n\u001b[1;32m    721\u001b[0m             \u001b[0;32mreturn\u001b[0m \u001b[0mparsed_response\u001b[0m\u001b[0;34m\u001b[0m\u001b[0;34m\u001b[0m\u001b[0m\n",
            "\u001b[0;31mClientError\u001b[0m: An error occurred (NoSuchBucketPolicy) when calling the GetBucketPolicy operation: The bucket policy does not exist"
          ]
        }
      ],
      "source": [
        "result = s3_client.get_bucket_policy(Bucket=bucket_name)\n",
        "print(result['Policy'])"
      ]
    },
    {
      "cell_type": "markdown",
      "metadata": {
        "id": "WSpON_-Bp-P9"
      },
      "source": [
        "## Set a bucket policy\n",
        "\n",
        "A bucket's policy can be set by calling the put_bucket_policy method.\n",
        "\n",
        "The policy is defined in the same JSON format as an IAM policy. \n",
        "\n"
      ]
    },
    {
      "cell_type": "markdown",
      "metadata": {
        "id": "Ihuw1Ajnp-P9"
      },
      "source": [
        "### Policy Format\n",
        "\n",
        "The **Sid (statement ID)** is an optional identifier that you provide for the policy statement. You can assign a Sid value to each statement in a statement array.\n",
        "\n",
        "The **Effect** element is required and specifies whether the statement results in an allow or an explicit deny. Valid values for Effect are Allow and Deny.\n",
        "\n",
        "By default, access to resources is denied. \n",
        "\n",
        "Use the **Principal** element in a policy to specify the principal that is allowed or denied access to a resource.\n",
        "\n",
        "You can specify any of the following principals in a policy:\n",
        "\n",
        "- AWS account and root user\n",
        "- IAM users\n",
        "- Federated users (using web identity or SAML federation)\n",
        "- IAM roles\n",
        "- Assumed-role sessions\n",
        "- AWS services\n",
        "- Anonymous users\n",
        "\n",
        "\n",
        "The **Action** element describes the specific action or actions that will be allowed or denied. \n",
        "\n",
        "We specify a value using a service namespace as an action prefix (iam, ec2, sqs, sns, s3, etc.) followed by the name of the action to allow or deny.\n",
        "\n",
        "The **Resource** element specifies the object or objects that the statement covers. We specify a resource using an ARN. Amazon Resource Names (ARNs) uniquely identify AWS resources."
      ]
    },
    {
      "cell_type": "markdown",
      "metadata": {
        "id": "lPh3FAlkp-P-"
      },
      "source": [
        "Let's define a policy that enables any user to retrieve any object stored in the bucket identified by the bucket_name variable."
      ]
    },
    {
      "cell_type": "code",
      "execution_count": null,
      "metadata": {
        "id": "1MN6aTepp-P-",
        "outputId": "41239256-84e1-4f32-b22b-6124dde5bdc0"
      },
      "outputs": [
        {
          "data": {
            "text/plain": [
              "{'ResponseMetadata': {'RequestId': 'T32WTX1ZC65SNN77',\n",
              "  'HostId': 'bxr9HRthoSb/cY87KTj/Vj+sJroVM7UbmwWxUWCp2oyeVFgeir+JsjdMezcZwWI8MD78YWBRht0=',\n",
              "  'HTTPStatusCode': 204,\n",
              "  'HTTPHeaders': {'x-amz-id-2': 'bxr9HRthoSb/cY87KTj/Vj+sJroVM7UbmwWxUWCp2oyeVFgeir+JsjdMezcZwWI8MD78YWBRht0=',\n",
              "   'x-amz-request-id': 'T32WTX1ZC65SNN77',\n",
              "   'date': 'Sat, 12 Mar 2022 16:31:41 GMT',\n",
              "   'server': 'AmazonS3'},\n",
              "  'RetryAttempts': 0}}"
            ]
          },
          "execution_count": 17,
          "metadata": {},
          "output_type": "execute_result"
        }
      ],
      "source": [
        "import json\n",
        "\n",
        "bucket_policy = {\n",
        "    'Version':'2012-10-17',\n",
        "    'Statement':[\n",
        "        {\n",
        "            'Sid':'AddPerm',\n",
        "            'Effect':'Allow',\n",
        "            'Principal':'*',\n",
        "            'Action':['s3:GetObject'],\n",
        "            'Resource':f'arn:aws:s3:::{bucket_name}/*'\n",
        "        }\n",
        "    ]\n",
        "}\n",
        "\n",
        "bucket_policy = json.dumps(bucket_policy)\n",
        "\n",
        "s3_client.put_bucket_policy(Bucket=bucket_name, Policy=bucket_policy)"
      ]
    },
    {
      "cell_type": "markdown",
      "metadata": {
        "id": "lXeTD-whrqw4"
      },
      "source": [
        "## Retrieve the previous setted Bucket Policy"
      ]
    },
    {
      "cell_type": "code",
      "execution_count": null,
      "metadata": {
        "id": "0ARuNFYfrqPP",
        "outputId": "0eb9d7e3-fafb-4500-847e-6bba88dc3fe5"
      },
      "outputs": [
        {
          "name": "stdout",
          "output_type": "stream",
          "text": [
            "{\"Version\":\"2012-10-17\",\"Statement\":[{\"Sid\":\"AddPerm\",\"Effect\":\"Allow\",\"Principal\":\"*\",\"Action\":\"s3:GetObject\",\"Resource\":\"arn:aws:s3:::workingwiths3-dfa1789a-9aba-4e12-bb33-2aa3bd00639f/*\"}]}\n"
          ]
        }
      ],
      "source": [
        "result = s3_client.get_bucket_policy(Bucket=bucket_name)\n",
        "print(result['Policy'])"
      ]
    },
    {
      "cell_type": "markdown",
      "metadata": {
        "id": "4_Twulftp-P-"
      },
      "source": [
        "## Delete a bucket policy\n"
      ]
    },
    {
      "cell_type": "code",
      "execution_count": null,
      "metadata": {
        "id": "TN6K9Ogup-P-",
        "outputId": "211b1344-8bb3-4b57-c204-122e3e7f3ed3"
      },
      "outputs": [
        {
          "data": {
            "text/plain": [
              "{'ResponseMetadata': {'RequestId': 'E2FMB8N96JE6MF6G',\n",
              "  'HostId': 'FoA63iPBGLwa/fye8zqjfZ7Xk78z+6CGDSfoBUc7G6TVqwOOTFE1Bh9eNKYhAvJhPuAstKPr71I=',\n",
              "  'HTTPStatusCode': 204,\n",
              "  'HTTPHeaders': {'x-amz-id-2': 'FoA63iPBGLwa/fye8zqjfZ7Xk78z+6CGDSfoBUc7G6TVqwOOTFE1Bh9eNKYhAvJhPuAstKPr71I=',\n",
              "   'x-amz-request-id': 'E2FMB8N96JE6MF6G',\n",
              "   'date': 'Sat, 12 Mar 2022 16:31:56 GMT',\n",
              "   'server': 'AmazonS3'},\n",
              "  'RetryAttempts': 0}}"
            ]
          },
          "execution_count": 19,
          "metadata": {},
          "output_type": "execute_result"
        }
      ],
      "source": [
        "s3_client.delete_bucket_policy(Bucket=bucket_name)"
      ]
    },
    {
      "cell_type": "markdown",
      "metadata": {
        "id": "POdv-rVGp-P-"
      },
      "source": [
        "## CORS Configuration\n",
        "\n",
        "Cross Origin Resource Sharing (CORS) enables client web applications in one domain to access resources in another domain. An S3 bucket can be configured to enable cross-origin requests. The configuration defines rules that specify the allowed origins, HTTP methods (GET, PUT, etc.), and other elements."
      ]
    },
    {
      "cell_type": "markdown",
      "metadata": {
        "id": "QpcltcUzp-P_"
      },
      "source": [
        "## Retrieve a bucket CORS configuration\n",
        "\n",
        "Retrieve a bucket's CORS configuration by calling the AWS SDK for Python get_bucket_cors method.\n",
        "\n",
        "Note: if the specified bucket doesn't have a CORS configuration the following exception is returned: **'NoSuchCORSConfiguration'**\n"
      ]
    },
    {
      "cell_type": "code",
      "execution_count": null,
      "metadata": {
        "id": "KNXoQKkCp-P_",
        "outputId": "950912f7-b3ac-454a-a5be-fad013ba005b"
      },
      "outputs": [
        {
          "ename": "ClientError",
          "evalue": "An error occurred (NoSuchCORSConfiguration) when calling the GetBucketCors operation: The CORS configuration does not exist",
          "output_type": "error",
          "traceback": [
            "\u001b[0;31m---------------------------------------------------------------------------\u001b[0m",
            "\u001b[0;31mClientError\u001b[0m                               Traceback (most recent call last)",
            "\u001b[0;32m<ipython-input-20-6a8902bd860f>\u001b[0m in \u001b[0;36m<module>\u001b[0;34m\u001b[0m\n\u001b[0;32m----> 1\u001b[0;31m \u001b[0mresponse\u001b[0m \u001b[0;34m=\u001b[0m \u001b[0ms3_client\u001b[0m\u001b[0;34m.\u001b[0m\u001b[0mget_bucket_cors\u001b[0m\u001b[0;34m(\u001b[0m\u001b[0mBucket\u001b[0m\u001b[0;34m=\u001b[0m\u001b[0mbucket_name\u001b[0m\u001b[0;34m)\u001b[0m\u001b[0;34m\u001b[0m\u001b[0;34m\u001b[0m\u001b[0m\n\u001b[0m\u001b[1;32m      2\u001b[0m \u001b[0;34m\u001b[0m\u001b[0m\n\u001b[1;32m      3\u001b[0m \u001b[0mprint\u001b[0m\u001b[0;34m(\u001b[0m\u001b[0mresponse\u001b[0m\u001b[0;34m[\u001b[0m\u001b[0;34m'CORSRules'\u001b[0m\u001b[0;34m]\u001b[0m\u001b[0;34m)\u001b[0m\u001b[0;34m\u001b[0m\u001b[0;34m\u001b[0m\u001b[0m\n",
            "\u001b[0;32m/opt/conda/lib/python3.7/site-packages/botocore/client.py\u001b[0m in \u001b[0;36m_api_call\u001b[0;34m(self, *args, **kwargs)\u001b[0m\n\u001b[1;32m    389\u001b[0m                     \"%s() only accepts keyword arguments.\" % py_operation_name)\n\u001b[1;32m    390\u001b[0m             \u001b[0;31m# The \"self\" in this scope is referring to the BaseClient.\u001b[0m\u001b[0;34m\u001b[0m\u001b[0;34m\u001b[0m\u001b[0;34m\u001b[0m\u001b[0m\n\u001b[0;32m--> 391\u001b[0;31m             \u001b[0;32mreturn\u001b[0m \u001b[0mself\u001b[0m\u001b[0;34m.\u001b[0m\u001b[0m_make_api_call\u001b[0m\u001b[0;34m(\u001b[0m\u001b[0moperation_name\u001b[0m\u001b[0;34m,\u001b[0m \u001b[0mkwargs\u001b[0m\u001b[0;34m)\u001b[0m\u001b[0;34m\u001b[0m\u001b[0;34m\u001b[0m\u001b[0m\n\u001b[0m\u001b[1;32m    392\u001b[0m \u001b[0;34m\u001b[0m\u001b[0m\n\u001b[1;32m    393\u001b[0m         \u001b[0m_api_call\u001b[0m\u001b[0;34m.\u001b[0m\u001b[0m__name__\u001b[0m \u001b[0;34m=\u001b[0m \u001b[0mstr\u001b[0m\u001b[0;34m(\u001b[0m\u001b[0mpy_operation_name\u001b[0m\u001b[0;34m)\u001b[0m\u001b[0;34m\u001b[0m\u001b[0;34m\u001b[0m\u001b[0m\n",
            "\u001b[0;32m/opt/conda/lib/python3.7/site-packages/botocore/client.py\u001b[0m in \u001b[0;36m_make_api_call\u001b[0;34m(self, operation_name, api_params)\u001b[0m\n\u001b[1;32m    717\u001b[0m             \u001b[0merror_code\u001b[0m \u001b[0;34m=\u001b[0m \u001b[0mparsed_response\u001b[0m\u001b[0;34m.\u001b[0m\u001b[0mget\u001b[0m\u001b[0;34m(\u001b[0m\u001b[0;34m\"Error\"\u001b[0m\u001b[0;34m,\u001b[0m \u001b[0;34m{\u001b[0m\u001b[0;34m}\u001b[0m\u001b[0;34m)\u001b[0m\u001b[0;34m.\u001b[0m\u001b[0mget\u001b[0m\u001b[0;34m(\u001b[0m\u001b[0;34m\"Code\"\u001b[0m\u001b[0;34m)\u001b[0m\u001b[0;34m\u001b[0m\u001b[0;34m\u001b[0m\u001b[0m\n\u001b[1;32m    718\u001b[0m             \u001b[0merror_class\u001b[0m \u001b[0;34m=\u001b[0m \u001b[0mself\u001b[0m\u001b[0;34m.\u001b[0m\u001b[0mexceptions\u001b[0m\u001b[0;34m.\u001b[0m\u001b[0mfrom_code\u001b[0m\u001b[0;34m(\u001b[0m\u001b[0merror_code\u001b[0m\u001b[0;34m)\u001b[0m\u001b[0;34m\u001b[0m\u001b[0;34m\u001b[0m\u001b[0m\n\u001b[0;32m--> 719\u001b[0;31m             \u001b[0;32mraise\u001b[0m \u001b[0merror_class\u001b[0m\u001b[0;34m(\u001b[0m\u001b[0mparsed_response\u001b[0m\u001b[0;34m,\u001b[0m \u001b[0moperation_name\u001b[0m\u001b[0;34m)\u001b[0m\u001b[0;34m\u001b[0m\u001b[0;34m\u001b[0m\u001b[0m\n\u001b[0m\u001b[1;32m    720\u001b[0m         \u001b[0;32melse\u001b[0m\u001b[0;34m:\u001b[0m\u001b[0;34m\u001b[0m\u001b[0;34m\u001b[0m\u001b[0m\n\u001b[1;32m    721\u001b[0m             \u001b[0;32mreturn\u001b[0m \u001b[0mparsed_response\u001b[0m\u001b[0;34m\u001b[0m\u001b[0;34m\u001b[0m\u001b[0m\n",
            "\u001b[0;31mClientError\u001b[0m: An error occurred (NoSuchCORSConfiguration) when calling the GetBucketCors operation: The CORS configuration does not exist"
          ]
        }
      ],
      "source": [
        "response = s3_client.get_bucket_cors(Bucket=bucket_name)\n",
        "\n",
        "print(response['CORSRules'])"
      ]
    },
    {
      "cell_type": "markdown",
      "metadata": {
        "id": "v3RtzvWJp-P_"
      },
      "source": [
        "## Set Bucket CORS"
      ]
    },
    {
      "cell_type": "code",
      "execution_count": null,
      "metadata": {
        "id": "GQJgHw1op-P_",
        "outputId": "3e425580-c110-4f62-8012-fe8c89f01720"
      },
      "outputs": [
        {
          "data": {
            "text/plain": [
              "{'ResponseMetadata': {'RequestId': 'CJ2BYRWJRK2FRXG2',\n",
              "  'HostId': 'QpTK/LYx/qlEnpphLZMF8Edh9fCtLZPDcuG8pbPqQ+a3WEUp52MCnfmDLMAd2Db86ph9zi0D7Ro=',\n",
              "  'HTTPStatusCode': 200,\n",
              "  'HTTPHeaders': {'x-amz-id-2': 'QpTK/LYx/qlEnpphLZMF8Edh9fCtLZPDcuG8pbPqQ+a3WEUp52MCnfmDLMAd2Db86ph9zi0D7Ro=',\n",
              "   'x-amz-request-id': 'CJ2BYRWJRK2FRXG2',\n",
              "   'date': 'Sat, 12 Mar 2022 16:32:14 GMT',\n",
              "   'server': 'AmazonS3',\n",
              "   'content-length': '0'},\n",
              "  'RetryAttempts': 0}}"
            ]
          },
          "execution_count": 21,
          "metadata": {},
          "output_type": "execute_result"
        }
      ],
      "source": [
        "cors_configuration = {\n",
        "    'CORSRules':[{\n",
        "        'AllowedHeaders':['Authorization'],\n",
        "        'AllowedMethods':['GET','PUT'],\n",
        "        'AllowedOrigins':['*'],\n",
        "        'ExposeHeaders':['GET','PUT'],\n",
        "        'MaxAgeSeconds':3000\n",
        "    }]\n",
        "}\n",
        "\n",
        "s3_client.put_bucket_cors(Bucket=bucket_name, CORSConfiguration=cors_configuration)"
      ]
    },
    {
      "cell_type": "markdown",
      "metadata": {
        "id": "sK3Qs2W_qxQc"
      },
      "source": [
        "## Retrieve the previous sett bucket CORS configuration"
      ]
    },
    {
      "cell_type": "code",
      "execution_count": null,
      "metadata": {
        "id": "nSYXjB8DqQ-j",
        "outputId": "9c906db6-1ee8-436c-843d-907647b01bf2"
      },
      "outputs": [
        {
          "name": "stdout",
          "output_type": "stream",
          "text": [
            "[{'AllowedHeaders': ['Authorization'], 'AllowedMethods': ['GET', 'PUT'], 'AllowedOrigins': ['*'], 'ExposeHeaders': ['GET', 'PUT'], 'MaxAgeSeconds': 3000}]\n"
          ]
        }
      ],
      "source": [
        "response = s3_client.get_bucket_cors(Bucket=bucket_name)\n",
        "\n",
        "print(response['CORSRules'])"
      ]
    },
    {
      "cell_type": "markdown",
      "metadata": {
        "id": "6n-JZAfDcp9F"
      },
      "source": [
        "## Deleting an object"
      ]
    },
    {
      "cell_type": "code",
      "execution_count": null,
      "metadata": {
        "id": "mqEgEIhQsYcy",
        "outputId": "206898c1-5cb6-42d6-d2ae-baacbf4300e8"
      },
      "outputs": [
        {
          "data": {
            "text/plain": [
              "{'ResponseMetadata': {'RequestId': 'EQWGXJ24JY4CVYAX',\n",
              "  'HostId': 'lRoUy4OY8pmAp0o+A6edQQ4tobBhH0ZboDQqanw/93U4peEx5sc8eMqZZ1+5+dnKrrhCNl5wIP4=',\n",
              "  'HTTPStatusCode': 204,\n",
              "  'HTTPHeaders': {'x-amz-id-2': 'lRoUy4OY8pmAp0o+A6edQQ4tobBhH0ZboDQqanw/93U4peEx5sc8eMqZZ1+5+dnKrrhCNl5wIP4=',\n",
              "   'x-amz-request-id': 'EQWGXJ24JY4CVYAX',\n",
              "   'date': 'Sat, 12 Mar 2022 16:32:41 GMT',\n",
              "   'server': 'AmazonS3'},\n",
              "  'RetryAttempts': 0}}"
            ]
          },
          "execution_count": 23,
          "metadata": {},
          "output_type": "execute_result"
        }
      ],
      "source": [
        "s3_client.delete_object(Bucket=bucket_name, Key='eveningsky_image_multi_transfer.jpeg')"
      ]
    },
    {
      "cell_type": "markdown",
      "metadata": {
        "id": "jfGklLx-sZIF"
      },
      "source": [
        "## Delete a bucket\n",
        "\n",
        "only empty buckets can be deleted"
      ]
    },
    {
      "cell_type": "code",
      "execution_count": null,
      "metadata": {
        "id": "Hca9EszBsc-V"
      },
      "outputs": [],
      "source": [
        "## delete all the objects in a bucket\n",
        "response = s3_client.delete_objects(\n",
        "    Bucket=bucket_name,\n",
        "    Delete={\n",
        "        'Objects': [\n",
        "            {\n",
        "                'Key': 'eveningsky_image.jpeg',\n",
        "            },\n",
        "            {\n",
        "                'Key': 'eveningsky_image_fileobj_method.jpeg',\n",
        "            },\n",
        "            {\n",
        "                'Key': 'eveningsky_image_public.jpeg',\n",
        "            }\n",
        "        ]\n",
        "    }\n",
        ")\n"
      ]
    },
    {
      "cell_type": "code",
      "execution_count": null,
      "metadata": {
        "id": "OfvpNk1ndpdu",
        "outputId": "266cc690-85be-4c46-da5e-97c0f66f9d45"
      },
      "outputs": [
        {
          "name": "stdout",
          "output_type": "stream",
          "text": [
            "[{'Key': 'eveningsky_image_fileobj_method.jpeg'}, {'Key': 'eveningsky_image.jpeg'}, {'Key': 'eveningsky_image_public.jpeg'}]\n"
          ]
        }
      ],
      "source": [
        "print(response['Deleted'])"
      ]
    },
    {
      "cell_type": "code",
      "execution_count": null,
      "metadata": {
        "id": "JhVXLXgDsc1u"
      },
      "outputs": [],
      "source": [
        "## delete the empted bucket\n",
        "response = s3_client.delete_bucket(Bucket=bucket_name)"
      ]
    },
    {
      "cell_type": "code",
      "execution_count": null,
      "metadata": {
        "id": "sqMUKr7esck9"
      },
      "outputs": [],
      "source": [
        ""
      ]
    },
    {
      "cell_type": "markdown",
      "metadata": {
        "id": "qchvdBKu8Aip"
      },
      "source": [
        "## **References**\n",
        "\n",
        "[1]    Working with AWS S3 Buckets using Python & boto3. Guided Project, Coursera.\n",
        "\n",
        "[2]    AWS Documentation:\n",
        "\n",
        "https://docs.aws.amazon.com/AmazonS3/latest/userguide/Welcome.html\n",
        "\n",
        "[3]    Python, Boto3, and AWS S3: Demystified.\n",
        "\n",
        "https://realpython.com/python-boto3-aws-s3/\n",
        "\n",
        "[4]    Boto3 Documentation:\n",
        "\n",
        "https://boto3.amazonaws.com/v1/documentation/api/latest/reference/services/s3.html\n",
        "\n",
        "[5]    Working with s3 in Python using boto3.\n",
        "\n",
        "https://hands-on.cloud/working-with-s3-in-python-using-boto3/\n",
        "\n",
        "[6]    AWS Documentation: Error Responses. List of Error Codes.\n",
        "\n",
        "https://docs.aws.amazon.com/AmazonS3/latest/API/ErrorResponses.html\n",
        "\n",
        "[7]    Boto3 Docs: Credentials.\n",
        "\n",
        "https://boto3.amazonaws.com/v1/documentation/api/latest/guide/credentials.html#guide-credentials\n",
        "\n",
        "[8]    Access control list (ACL) overview.\n",
        "\n",
        "https://docs.aws.amazon.com/AmazonS3/latest/userguide/acl-overview.html\n",
        "\n",
        "[9]    Example IAM identity-based policies.\n",
        "\n",
        "https://docs.aws.amazon.com/IAM/latest/UserGuide/access_policies_examples.html#iam-policy-example-s3\n",
        "\n"
      ]
    },
    {
      "cell_type": "code",
      "execution_count": null,
      "metadata": {
        "id": "ZwengKsqDvHq"
      },
      "outputs": [],
      "source": [
        ""
      ]
    }
  ],
  "metadata": {
    "colab": {
      "collapsed_sections": [],
      "name": "AWS-S3-using-boto3.ipynb",
      "provenance": []
    },
    "kernelspec": {
      "display_name": "Python 3 (Data Science)",
      "language": "python",
      "name": "python3__SAGEMAKER_INTERNAL__arn:aws:sagemaker:us-east-1:081325390199:image/datascience-1.0"
    },
    "language_info": {
      "codemirror_mode": {
        "name": "ipython",
        "version": 3
      },
      "file_extension": ".py",
      "mimetype": "text/x-python",
      "name": "python",
      "nbconvert_exporter": "python",
      "pygments_lexer": "ipython3",
      "version": "3.7.10"
    }
  },
  "nbformat": 4,
  "nbformat_minor": 0
}